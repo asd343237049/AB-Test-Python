{
 "cells": [
  {
   "cell_type": "code",
   "execution_count": 72,
   "id": "0b772365",
   "metadata": {},
   "outputs": [],
   "source": [
    "file = '363997da-b1c8-49d2-b512-dc7d00f944d5.csv'"
   ]
  },
  {
   "cell_type": "code",
   "execution_count": null,
   "id": "64625c22",
   "metadata": {},
   "outputs": [],
   "source": [
    "#Null hypothesis or H0:\n",
    "#The null hypothesis is the one that states that sample observations result purely from chance.\n",
    "#From an A/B test perspective, the null hypothesis states that there is no difference \n",
    "#between the control and variant groups. It states the default position to be tested or the situation as it is now,\n",
    "#i.e. the status quo. Here our H0 is ” there is no difference \n",
    "#in the conversion rate in customers receiving newsletter A and B”.\n",
    "\n",
    "Alternative Hypothesis or H0:\n",
    "The alternative hypothesis challenges the null hypothesis \n",
    "and is basically a hypothesis that the researcher believes to be true.\n",
    "The alternative hypothesis is what you might hope that your A/B test will prove to be true."
   ]
  },
  {
   "cell_type": "code",
   "execution_count": 209,
   "id": "9528e086",
   "metadata": {},
   "outputs": [],
   "source": [
    "import pandas as pd\n",
    "import datetime as dt\n",
    "import seaborn as sns\n",
    "import matplotlib.pyplot as plt\n",
    "import numpy as np\n",
    "from sklearn.neighbors import KNeighborsClassifier\n",
    "from sklearn.model_selection import train_test_split\n",
    "from sklearn.linear_model import LinearRegression\n",
    "from sklearn.metrics import mean_squared_error\n",
    "from sklearn.linear_model import Lasso\n",
    "from sklearn import datasets, linear_model\n",
    "import scipy.stats as ss "
   ]
  },
  {
   "cell_type": "code",
   "execution_count": 74,
   "id": "7c8d1726",
   "metadata": {},
   "outputs": [],
   "source": [
    "df = pd.read_csv(file)"
   ]
  },
  {
   "cell_type": "code",
   "execution_count": 75,
   "id": "5e82f418",
   "metadata": {},
   "outputs": [
    {
     "data": {
      "text/html": [
       "<div>\n",
       "<style scoped>\n",
       "    .dataframe tbody tr th:only-of-type {\n",
       "        vertical-align: middle;\n",
       "    }\n",
       "\n",
       "    .dataframe tbody tr th {\n",
       "        vertical-align: top;\n",
       "    }\n",
       "\n",
       "    .dataframe thead th {\n",
       "        text-align: right;\n",
       "    }\n",
       "</style>\n",
       "<table border=\"1\" class=\"dataframe\">\n",
       "  <thead>\n",
       "    <tr style=\"text-align: right;\">\n",
       "      <th></th>\n",
       "      <th>Amount - Order Total</th>\n",
       "      <th>Item - Fill SKU</th>\n",
       "      <th>Item - Price</th>\n",
       "      <th>Item - Qty</th>\n",
       "      <th>Item - SKU</th>\n",
       "      <th>Ship To - State</th>\n",
       "      <th>Date - Order Date</th>\n",
       "    </tr>\n",
       "  </thead>\n",
       "  <tbody>\n",
       "    <tr>\n",
       "      <th>0</th>\n",
       "      <td>374.84</td>\n",
       "      <td>NaN</td>\n",
       "      <td>339.99</td>\n",
       "      <td>1.0</td>\n",
       "      <td>Treadmill-None-0002</td>\n",
       "      <td>CA</td>\n",
       "      <td>5/4/2021 9:48:31 AM</td>\n",
       "    </tr>\n",
       "    <tr>\n",
       "      <th>1</th>\n",
       "      <td>359.98</td>\n",
       "      <td>NaN</td>\n",
       "      <td>339.99</td>\n",
       "      <td>1.0</td>\n",
       "      <td>Treadmill-None-0002</td>\n",
       "      <td>FL</td>\n",
       "      <td>5/4/2021 8:44:24 PM</td>\n",
       "    </tr>\n",
       "    <tr>\n",
       "      <th>2</th>\n",
       "      <td>100.48</td>\n",
       "      <td>NaN</td>\n",
       "      <td>92.99</td>\n",
       "      <td>1.0</td>\n",
       "      <td>Kid-desk-Blue-002</td>\n",
       "      <td>AZ</td>\n",
       "      <td>5/11/2021 9:57:27 AM</td>\n",
       "    </tr>\n",
       "    <tr>\n",
       "      <th>3</th>\n",
       "      <td>259.79</td>\n",
       "      <td>NaN</td>\n",
       "      <td>239.99</td>\n",
       "      <td>1.0</td>\n",
       "      <td>DESK-S-BLK</td>\n",
       "      <td>TX</td>\n",
       "      <td>5/11/2021 5:08:34 PM</td>\n",
       "    </tr>\n",
       "    <tr>\n",
       "      <th>4</th>\n",
       "      <td>256.79</td>\n",
       "      <td>NaN</td>\n",
       "      <td>239.99</td>\n",
       "      <td>1.0</td>\n",
       "      <td>DESK-S-BLK</td>\n",
       "      <td>RI</td>\n",
       "      <td>5/15/2021 11:28:40 AM</td>\n",
       "    </tr>\n",
       "  </tbody>\n",
       "</table>\n",
       "</div>"
      ],
      "text/plain": [
       "   Amount - Order Total  Item - Fill SKU  Item - Price  Item - Qty  \\\n",
       "0                374.84              NaN        339.99         1.0   \n",
       "1                359.98              NaN        339.99         1.0   \n",
       "2                100.48              NaN         92.99         1.0   \n",
       "3                259.79              NaN        239.99         1.0   \n",
       "4                256.79              NaN        239.99         1.0   \n",
       "\n",
       "            Item - SKU Ship To - State      Date - Order Date  \n",
       "0  Treadmill-None-0002              CA    5/4/2021 9:48:31 AM  \n",
       "1  Treadmill-None-0002              FL    5/4/2021 8:44:24 PM  \n",
       "2    Kid-desk-Blue-002              AZ   5/11/2021 9:57:27 AM  \n",
       "3           DESK-S-BLK              TX   5/11/2021 5:08:34 PM  \n",
       "4           DESK-S-BLK              RI  5/15/2021 11:28:40 AM  "
      ]
     },
     "execution_count": 75,
     "metadata": {},
     "output_type": "execute_result"
    }
   ],
   "source": [
    "df.head()"
   ]
  },
  {
   "cell_type": "code",
   "execution_count": 76,
   "id": "5d850dc6",
   "metadata": {},
   "outputs": [
    {
     "data": {
      "text/plain": [
       "(1510, 7)"
      ]
     },
     "execution_count": 76,
     "metadata": {},
     "output_type": "execute_result"
    }
   ],
   "source": [
    "df.shape"
   ]
  },
  {
   "cell_type": "code",
   "execution_count": 77,
   "id": "0b59117c",
   "metadata": {},
   "outputs": [
    {
     "name": "stdout",
     "output_type": "stream",
     "text": [
      "<class 'pandas.core.frame.DataFrame'>\n",
      "RangeIndex: 1510 entries, 0 to 1509\n",
      "Data columns (total 7 columns):\n",
      " #   Column                Non-Null Count  Dtype  \n",
      "---  ------                --------------  -----  \n",
      " 0   Amount - Order Total  1510 non-null   float64\n",
      " 1   Item - Fill SKU       0 non-null      float64\n",
      " 2   Item - Price          1487 non-null   float64\n",
      " 3   Item - Qty            1487 non-null   float64\n",
      " 4   Item - SKU            1487 non-null   object \n",
      " 5   Ship To - State       1510 non-null   object \n",
      " 6   Date - Order Date     1510 non-null   object \n",
      "dtypes: float64(4), object(3)\n",
      "memory usage: 82.7+ KB\n"
     ]
    }
   ],
   "source": [
    "df.info()\n"
   ]
  },
  {
   "cell_type": "code",
   "execution_count": 78,
   "id": "2be42b42",
   "metadata": {},
   "outputs": [
    {
     "data": {
      "text/plain": [
       "<AxesSubplot:xlabel='index'>"
      ]
     },
     "execution_count": 78,
     "metadata": {},
     "output_type": "execute_result"
    },
    {
     "data": {
      "text/plain": [
       "<Figure size 1440x720 with 0 Axes>"
      ]
     },
     "metadata": {},
     "output_type": "display_data"
    },
    {
     "data": {
      "image/png": "[encoded data removed]",
      "text/plain": [
       "<Figure size 432x288 with 1 Axes>"
      ]
     },
     "metadata": {
      "needs_background": "light"
     },
     "output_type": "display_data"
    }
   ],
   "source": [
    "plt.figure(figsize=(20,10))\n",
    "df.isna().sum().reset_index(name=\"n\").plot.bar(x='index', y='n', rot=50)\n"
   ]
  },
  {
   "cell_type": "code",
   "execution_count": 79,
   "id": "f128520e",
   "metadata": {},
   "outputs": [
    {
     "data": {
      "text/plain": [
       "Amount - Order Total       0\n",
       "Item - Fill SKU         1510\n",
       "Item - Price              23\n",
       "Item - Qty                23\n",
       "Item - SKU                23\n",
       "Ship To - State            0\n",
       "Date - Order Date          0\n",
       "dtype: int64"
      ]
     },
     "execution_count": 79,
     "metadata": {},
     "output_type": "execute_result"
    }
   ],
   "source": [
    "df.isna().sum()"
   ]
  },
  {
   "cell_type": "code",
   "execution_count": 83,
   "id": "d8734825",
   "metadata": {},
   "outputs": [],
   "source": [
    "df = df.drop('Item - Fill SKU',axis=1)"
   ]
  },
  {
   "cell_type": "code",
   "execution_count": 84,
   "id": "49921848",
   "metadata": {},
   "outputs": [
    {
     "data": {
      "text/html": [
       "<div>\n",
       "<style scoped>\n",
       "    .dataframe tbody tr th:only-of-type {\n",
       "        vertical-align: middle;\n",
       "    }\n",
       "\n",
       "    .dataframe tbody tr th {\n",
       "        vertical-align: top;\n",
       "    }\n",
       "\n",
       "    .dataframe thead th {\n",
       "        text-align: right;\n",
       "    }\n",
       "</style>\n",
       "<table border=\"1\" class=\"dataframe\">\n",
       "  <thead>\n",
       "    <tr style=\"text-align: right;\">\n",
       "      <th></th>\n",
       "      <th>Amount - Order Total</th>\n",
       "      <th>Item - Price</th>\n",
       "      <th>Item - Qty</th>\n",
       "      <th>Item - SKU</th>\n",
       "      <th>Ship To - State</th>\n",
       "      <th>Date - Order Date</th>\n",
       "    </tr>\n",
       "  </thead>\n",
       "  <tbody>\n",
       "    <tr>\n",
       "      <th>0</th>\n",
       "      <td>374.84</td>\n",
       "      <td>339.99</td>\n",
       "      <td>1.0</td>\n",
       "      <td>Treadmill-None-0002</td>\n",
       "      <td>CA</td>\n",
       "      <td>5/4/2021 9:48:31 AM</td>\n",
       "    </tr>\n",
       "    <tr>\n",
       "      <th>1</th>\n",
       "      <td>359.98</td>\n",
       "      <td>339.99</td>\n",
       "      <td>1.0</td>\n",
       "      <td>Treadmill-None-0002</td>\n",
       "      <td>FL</td>\n",
       "      <td>5/4/2021 8:44:24 PM</td>\n",
       "    </tr>\n",
       "    <tr>\n",
       "      <th>2</th>\n",
       "      <td>100.48</td>\n",
       "      <td>92.99</td>\n",
       "      <td>1.0</td>\n",
       "      <td>Kid-desk-Blue-002</td>\n",
       "      <td>AZ</td>\n",
       "      <td>5/11/2021 9:57:27 AM</td>\n",
       "    </tr>\n",
       "    <tr>\n",
       "      <th>3</th>\n",
       "      <td>259.79</td>\n",
       "      <td>239.99</td>\n",
       "      <td>1.0</td>\n",
       "      <td>DESK-S-BLK</td>\n",
       "      <td>TX</td>\n",
       "      <td>5/11/2021 5:08:34 PM</td>\n",
       "    </tr>\n",
       "    <tr>\n",
       "      <th>4</th>\n",
       "      <td>256.79</td>\n",
       "      <td>239.99</td>\n",
       "      <td>1.0</td>\n",
       "      <td>DESK-S-BLK</td>\n",
       "      <td>RI</td>\n",
       "      <td>5/15/2021 11:28:40 AM</td>\n",
       "    </tr>\n",
       "    <tr>\n",
       "      <th>...</th>\n",
       "      <td>...</td>\n",
       "      <td>...</td>\n",
       "      <td>...</td>\n",
       "      <td>...</td>\n",
       "      <td>...</td>\n",
       "      <td>...</td>\n",
       "    </tr>\n",
       "    <tr>\n",
       "      <th>1505</th>\n",
       "      <td>699.59</td>\n",
       "      <td>659.99</td>\n",
       "      <td>1.0</td>\n",
       "      <td>DBBL-90-TWO-3</td>\n",
       "      <td>MI</td>\n",
       "      <td>9/13/2021 8:37:53 AM</td>\n",
       "    </tr>\n",
       "    <tr>\n",
       "      <th>1506</th>\n",
       "      <td>99.99</td>\n",
       "      <td>99.99</td>\n",
       "      <td>1.0</td>\n",
       "      <td>BT-Tripod-007</td>\n",
       "      <td>VA</td>\n",
       "      <td>9/13/2021 10:01:46 AM</td>\n",
       "    </tr>\n",
       "    <tr>\n",
       "      <th>1507</th>\n",
       "      <td>97.41</td>\n",
       "      <td>89.99</td>\n",
       "      <td>1.0</td>\n",
       "      <td>BT3-0012-1</td>\n",
       "      <td>TX</td>\n",
       "      <td>9/13/2021 10:53:31 AM</td>\n",
       "    </tr>\n",
       "    <tr>\n",
       "      <th>1508</th>\n",
       "      <td>706.19</td>\n",
       "      <td>659.99</td>\n",
       "      <td>1.0</td>\n",
       "      <td>DBBL-90-TWO-3</td>\n",
       "      <td>GA</td>\n",
       "      <td>9/13/2021 11:20:46 AM</td>\n",
       "    </tr>\n",
       "    <tr>\n",
       "      <th>1509</th>\n",
       "      <td>0.00</td>\n",
       "      <td>NaN</td>\n",
       "      <td>NaN</td>\n",
       "      <td>NaN</td>\n",
       "      <td>PA</td>\n",
       "      <td>9/13/2021 1:03:14 PM</td>\n",
       "    </tr>\n",
       "  </tbody>\n",
       "</table>\n",
       "<p>1510 rows × 6 columns</p>\n",
       "</div>"
      ],
      "text/plain": [
       "      Amount - Order Total  Item - Price  Item - Qty           Item - SKU  \\\n",
       "0                   374.84        339.99         1.0  Treadmill-None-0002   \n",
       "1                   359.98        339.99         1.0  Treadmill-None-0002   \n",
       "2                   100.48         92.99         1.0    Kid-desk-Blue-002   \n",
       "3                   259.79        239.99         1.0           DESK-S-BLK   \n",
       "4                   256.79        239.99         1.0           DESK-S-BLK   \n",
       "...                    ...           ...         ...                  ...   \n",
       "1505                699.59        659.99         1.0        DBBL-90-TWO-3   \n",
       "1506                 99.99         99.99         1.0        BT-Tripod-007   \n",
       "1507                 97.41         89.99         1.0           BT3-0012-1   \n",
       "1508                706.19        659.99         1.0        DBBL-90-TWO-3   \n",
       "1509                  0.00           NaN         NaN                  NaN   \n",
       "\n",
       "     Ship To - State      Date - Order Date  \n",
       "0                 CA    5/4/2021 9:48:31 AM  \n",
       "1                 FL    5/4/2021 8:44:24 PM  \n",
       "2                 AZ   5/11/2021 9:57:27 AM  \n",
       "3                 TX   5/11/2021 5:08:34 PM  \n",
       "4                 RI  5/15/2021 11:28:40 AM  \n",
       "...              ...                    ...  \n",
       "1505              MI   9/13/2021 8:37:53 AM  \n",
       "1506              VA  9/13/2021 10:01:46 AM  \n",
       "1507              TX  9/13/2021 10:53:31 AM  \n",
       "1508              GA  9/13/2021 11:20:46 AM  \n",
       "1509              PA   9/13/2021 1:03:14 PM  \n",
       "\n",
       "[1510 rows x 6 columns]"
      ]
     },
     "execution_count": 84,
     "metadata": {},
     "output_type": "execute_result"
    }
   ],
   "source": [
    "df"
   ]
  },
  {
   "cell_type": "code",
   "execution_count": 91,
   "id": "c32cec30",
   "metadata": {},
   "outputs": [
    {
     "data": {
      "text/plain": [
       "<AxesSubplot:xlabel='index'>"
      ]
     },
     "execution_count": 91,
     "metadata": {},
     "output_type": "execute_result"
    },
    {
     "data": {
      "image/png": "[encoded data removed]",
      "text/plain": [
       "<Figure size 432x288 with 1 Axes>"
      ]
     },
     "metadata": {
      "needs_background": "light"
     },
     "output_type": "display_data"
    }
   ],
   "source": [
    "df.isna().sum().reset_index(name=\"n\").plot.bar(x='index', y='n', rot=50)\n"
   ]
  },
  {
   "cell_type": "code",
   "execution_count": 92,
   "id": "cd30e071",
   "metadata": {},
   "outputs": [],
   "source": [
    "df=df.dropna()"
   ]
  },
  {
   "cell_type": "code",
   "execution_count": 103,
   "id": "399c9b95",
   "metadata": {},
   "outputs": [],
   "source": [
    "TDF = df[(df['Item - SKU'].str.contains('Tripod')) | (df['Item - SKU'].str.contains('TRIPOD')) ]"
   ]
  },
  {
   "cell_type": "code",
   "execution_count": 119,
   "id": "10e8747e",
   "metadata": {},
   "outputs": [],
   "source": [
    "TD = TDF.groupby('Item - SKU').size().to_frame('Count').reset_index()"
   ]
  },
  {
   "cell_type": "code",
   "execution_count": 120,
   "id": "83ad27c7",
   "metadata": {},
   "outputs": [
    {
     "data": {
      "text/html": [
       "<div>\n",
       "<style scoped>\n",
       "    .dataframe tbody tr th:only-of-type {\n",
       "        vertical-align: middle;\n",
       "    }\n",
       "\n",
       "    .dataframe tbody tr th {\n",
       "        vertical-align: top;\n",
       "    }\n",
       "\n",
       "    .dataframe thead th {\n",
       "        text-align: right;\n",
       "    }\n",
       "</style>\n",
       "<table border=\"1\" class=\"dataframe\">\n",
       "  <thead>\n",
       "    <tr style=\"text-align: right;\">\n",
       "      <th></th>\n",
       "      <th>Item - SKU</th>\n",
       "      <th>Count</th>\n",
       "    </tr>\n",
       "  </thead>\n",
       "  <tbody>\n",
       "    <tr>\n",
       "      <th>0</th>\n",
       "      <td>BT-TRIPOD-01</td>\n",
       "      <td>294</td>\n",
       "    </tr>\n",
       "    <tr>\n",
       "      <th>1</th>\n",
       "      <td>BT-Tripod-005</td>\n",
       "      <td>40</td>\n",
       "    </tr>\n",
       "    <tr>\n",
       "      <th>2</th>\n",
       "      <td>BT-Tripod-007</td>\n",
       "      <td>30</td>\n",
       "    </tr>\n",
       "    <tr>\n",
       "      <th>3</th>\n",
       "      <td>TRIPOD-03</td>\n",
       "      <td>82</td>\n",
       "    </tr>\n",
       "  </tbody>\n",
       "</table>\n",
       "</div>"
      ],
      "text/plain": [
       "      Item - SKU  Count\n",
       "0   BT-TRIPOD-01    294\n",
       "1  BT-Tripod-005     40\n",
       "2  BT-Tripod-007     30\n",
       "3      TRIPOD-03     82"
      ]
     },
     "execution_count": 120,
     "metadata": {},
     "output_type": "execute_result"
    }
   ],
   "source": [
    "TD"
   ]
  },
  {
   "cell_type": "code",
   "execution_count": 130,
   "id": "0b83e293",
   "metadata": {},
   "outputs": [
    {
     "data": {
      "text/plain": [
       "<AxesSubplot:xlabel='Item - SKU'>"
      ]
     },
     "execution_count": 130,
     "metadata": {},
     "output_type": "execute_result"
    },
    {
     "data": {
      "image/png": "[encoded data removed]",
      "text/plain": [
       "<Figure size 432x288 with 1 Axes>"
      ]
     },
     "metadata": {
      "needs_background": "light"
     },
     "output_type": "display_data"
    }
   ],
   "source": [
    "TD.plot.bar(x = 'Item - SKU', y= 'Count')"
   ]
  },
  {
   "cell_type": "code",
   "execution_count": 134,
   "id": "709259b8",
   "metadata": {},
   "outputs": [
    {
     "name": "stderr",
     "output_type": "stream",
     "text": [
      "<ipython-input-134-3d44053d1e2b>:1: SettingWithCopyWarning: \n",
      "A value is trying to be set on a copy of a slice from a DataFrame.\n",
      "Try using .loc[row_indexer,col_indexer] = value instead\n",
      "\n",
      "See the caveats in the documentation: https://pandas.pydata.org/pandas-docs/stable/user_guide/indexing.html#returning-a-view-versus-a-copy\n",
      "  df['date']= pd.to_datetime(df['Date - Order Date'], errors='coerce')\n"
     ]
    }
   ],
   "source": [
    "df['date']= pd.to_datetime(df['Date - Order Date'], errors='coerce')"
   ]
  },
  {
   "cell_type": "code",
   "execution_count": 137,
   "id": "4c1d18a5",
   "metadata": {},
   "outputs": [
    {
     "name": "stderr",
     "output_type": "stream",
     "text": [
      "<ipython-input-137-95b327ce15e9>:1: SettingWithCopyWarning: \n",
      "A value is trying to be set on a copy of a slice from a DataFrame.\n",
      "Try using .loc[row_indexer,col_indexer] = value instead\n",
      "\n",
      "See the caveats in the documentation: https://pandas.pydata.org/pandas-docs/stable/user_guide/indexing.html#returning-a-view-versus-a-copy\n",
      "  df['date'] = df.date.dt.to_period('d')\n"
     ]
    }
   ],
   "source": [
    "\n",
    "df['date'] = df.date.dt.to_period('d')"
   ]
  },
  {
   "cell_type": "code",
   "execution_count": 140,
   "id": "90285d05",
   "metadata": {},
   "outputs": [
    {
     "data": {
      "text/plain": [
       "0       2021-05-04\n",
       "1       2021-05-04\n",
       "2       2021-05-11\n",
       "3       2021-05-11\n",
       "4       2021-05-15\n",
       "           ...    \n",
       "1504    2021-09-13\n",
       "1505    2021-09-13\n",
       "1506    2021-09-13\n",
       "1507    2021-09-13\n",
       "1508    2021-09-13\n",
       "Name: date, Length: 1487, dtype: period[D]"
      ]
     },
     "execution_count": 140,
     "metadata": {},
     "output_type": "execute_result"
    }
   ],
   "source": [
    "df['date']"
   ]
  },
  {
   "cell_type": "code",
   "execution_count": 142,
   "id": "943f2b2f",
   "metadata": {},
   "outputs": [],
   "source": [
    "TD1 = df.groupby(['Item - SKU','date']).size().to_frame('Count').reset_index()"
   ]
  },
  {
   "cell_type": "code",
   "execution_count": 144,
   "id": "b039e313",
   "metadata": {},
   "outputs": [],
   "source": [
    "TD1 = TD1[(TD1['Item - SKU'].str.contains('Tripod')) | (TD1['Item - SKU'].str.contains('TRIPOD')) ]"
   ]
  },
  {
   "cell_type": "code",
   "execution_count": 145,
   "id": "19375cb0",
   "metadata": {},
   "outputs": [
    {
     "data": {
      "text/html": [
       "<div>\n",
       "<style scoped>\n",
       "    .dataframe tbody tr th:only-of-type {\n",
       "        vertical-align: middle;\n",
       "    }\n",
       "\n",
       "    .dataframe tbody tr th {\n",
       "        vertical-align: top;\n",
       "    }\n",
       "\n",
       "    .dataframe thead th {\n",
       "        text-align: right;\n",
       "    }\n",
       "</style>\n",
       "<table border=\"1\" class=\"dataframe\">\n",
       "  <thead>\n",
       "    <tr style=\"text-align: right;\">\n",
       "      <th></th>\n",
       "      <th>Item - SKU</th>\n",
       "      <th>date</th>\n",
       "      <th>Count</th>\n",
       "    </tr>\n",
       "  </thead>\n",
       "  <tbody>\n",
       "    <tr>\n",
       "      <th>188</th>\n",
       "      <td>BT-TRIPOD-01</td>\n",
       "      <td>2021-07-06</td>\n",
       "      <td>3</td>\n",
       "    </tr>\n",
       "    <tr>\n",
       "      <th>189</th>\n",
       "      <td>BT-TRIPOD-01</td>\n",
       "      <td>2021-07-07</td>\n",
       "      <td>2</td>\n",
       "    </tr>\n",
       "    <tr>\n",
       "      <th>190</th>\n",
       "      <td>BT-TRIPOD-01</td>\n",
       "      <td>2021-07-08</td>\n",
       "      <td>4</td>\n",
       "    </tr>\n",
       "    <tr>\n",
       "      <th>191</th>\n",
       "      <td>BT-TRIPOD-01</td>\n",
       "      <td>2021-07-09</td>\n",
       "      <td>2</td>\n",
       "    </tr>\n",
       "    <tr>\n",
       "      <th>192</th>\n",
       "      <td>BT-TRIPOD-01</td>\n",
       "      <td>2021-07-10</td>\n",
       "      <td>1</td>\n",
       "    </tr>\n",
       "    <tr>\n",
       "      <th>...</th>\n",
       "      <td>...</td>\n",
       "      <td>...</td>\n",
       "      <td>...</td>\n",
       "    </tr>\n",
       "    <tr>\n",
       "      <th>614</th>\n",
       "      <td>TRIPOD-03</td>\n",
       "      <td>2021-09-06</td>\n",
       "      <td>2</td>\n",
       "    </tr>\n",
       "    <tr>\n",
       "      <th>615</th>\n",
       "      <td>TRIPOD-03</td>\n",
       "      <td>2021-09-07</td>\n",
       "      <td>2</td>\n",
       "    </tr>\n",
       "    <tr>\n",
       "      <th>616</th>\n",
       "      <td>TRIPOD-03</td>\n",
       "      <td>2021-09-08</td>\n",
       "      <td>1</td>\n",
       "    </tr>\n",
       "    <tr>\n",
       "      <th>617</th>\n",
       "      <td>TRIPOD-03</td>\n",
       "      <td>2021-09-10</td>\n",
       "      <td>3</td>\n",
       "    </tr>\n",
       "    <tr>\n",
       "      <th>618</th>\n",
       "      <td>TRIPOD-03</td>\n",
       "      <td>2021-09-12</td>\n",
       "      <td>1</td>\n",
       "    </tr>\n",
       "  </tbody>\n",
       "</table>\n",
       "<p>134 rows × 3 columns</p>\n",
       "</div>"
      ],
      "text/plain": [
       "       Item - SKU        date  Count\n",
       "188  BT-TRIPOD-01  2021-07-06      3\n",
       "189  BT-TRIPOD-01  2021-07-07      2\n",
       "190  BT-TRIPOD-01  2021-07-08      4\n",
       "191  BT-TRIPOD-01  2021-07-09      2\n",
       "192  BT-TRIPOD-01  2021-07-10      1\n",
       "..            ...         ...    ...\n",
       "614     TRIPOD-03  2021-09-06      2\n",
       "615     TRIPOD-03  2021-09-07      2\n",
       "616     TRIPOD-03  2021-09-08      1\n",
       "617     TRIPOD-03  2021-09-10      3\n",
       "618     TRIPOD-03  2021-09-12      1\n",
       "\n",
       "[134 rows x 3 columns]"
      ]
     },
     "execution_count": 145,
     "metadata": {},
     "output_type": "execute_result"
    }
   ],
   "source": [
    "TD1"
   ]
  },
  {
   "cell_type": "code",
   "execution_count": 149,
   "id": "9daa7822",
   "metadata": {},
   "outputs": [
    {
     "data": {
      "text/plain": [
       "array(['BT-TRIPOD-01', 'BT-Tripod-005', 'BT-Tripod-007', 'TRIPOD-03'],\n",
       "      dtype=object)"
      ]
     },
     "execution_count": 149,
     "metadata": {},
     "output_type": "execute_result"
    }
   ],
   "source": [
    "TD1['Item - SKU'].unique()"
   ]
  },
  {
   "cell_type": "code",
   "execution_count": 165,
   "id": "f1997023",
   "metadata": {},
   "outputs": [],
   "source": [
    "df1 = pd.crosstab(TD1['date'],TD1['Item - SKU'])"
   ]
  },
  {
   "cell_type": "code",
   "execution_count": 166,
   "id": "dbd050c1",
   "metadata": {},
   "outputs": [
    {
     "data": {
      "text/html": [
       "<div>\n",
       "<style scoped>\n",
       "    .dataframe tbody tr th:only-of-type {\n",
       "        vertical-align: middle;\n",
       "    }\n",
       "\n",
       "    .dataframe tbody tr th {\n",
       "        vertical-align: top;\n",
       "    }\n",
       "\n",
       "    .dataframe thead th {\n",
       "        text-align: right;\n",
       "    }\n",
       "</style>\n",
       "<table border=\"1\" class=\"dataframe\">\n",
       "  <thead>\n",
       "    <tr style=\"text-align: right;\">\n",
       "      <th>Item - SKU</th>\n",
       "      <th>BT-TRIPOD-01</th>\n",
       "      <th>BT-Tripod-005</th>\n",
       "      <th>BT-Tripod-007</th>\n",
       "      <th>TRIPOD-03</th>\n",
       "    </tr>\n",
       "    <tr>\n",
       "      <th>date</th>\n",
       "      <th></th>\n",
       "      <th></th>\n",
       "      <th></th>\n",
       "      <th></th>\n",
       "    </tr>\n",
       "  </thead>\n",
       "  <tbody>\n",
       "    <tr>\n",
       "      <th>2021-07-06</th>\n",
       "      <td>1</td>\n",
       "      <td>0</td>\n",
       "      <td>0</td>\n",
       "      <td>0</td>\n",
       "    </tr>\n",
       "    <tr>\n",
       "      <th>2021-07-07</th>\n",
       "      <td>1</td>\n",
       "      <td>0</td>\n",
       "      <td>0</td>\n",
       "      <td>0</td>\n",
       "    </tr>\n",
       "    <tr>\n",
       "      <th>2021-07-08</th>\n",
       "      <td>1</td>\n",
       "      <td>0</td>\n",
       "      <td>1</td>\n",
       "      <td>0</td>\n",
       "    </tr>\n",
       "    <tr>\n",
       "      <th>2021-07-09</th>\n",
       "      <td>1</td>\n",
       "      <td>0</td>\n",
       "      <td>1</td>\n",
       "      <td>0</td>\n",
       "    </tr>\n",
       "    <tr>\n",
       "      <th>2021-07-10</th>\n",
       "      <td>1</td>\n",
       "      <td>0</td>\n",
       "      <td>1</td>\n",
       "      <td>0</td>\n",
       "    </tr>\n",
       "    <tr>\n",
       "      <th>...</th>\n",
       "      <td>...</td>\n",
       "      <td>...</td>\n",
       "      <td>...</td>\n",
       "      <td>...</td>\n",
       "    </tr>\n",
       "    <tr>\n",
       "      <th>2021-09-09</th>\n",
       "      <td>1</td>\n",
       "      <td>0</td>\n",
       "      <td>0</td>\n",
       "      <td>0</td>\n",
       "    </tr>\n",
       "    <tr>\n",
       "      <th>2021-09-10</th>\n",
       "      <td>1</td>\n",
       "      <td>1</td>\n",
       "      <td>1</td>\n",
       "      <td>1</td>\n",
       "    </tr>\n",
       "    <tr>\n",
       "      <th>2021-09-11</th>\n",
       "      <td>1</td>\n",
       "      <td>0</td>\n",
       "      <td>0</td>\n",
       "      <td>0</td>\n",
       "    </tr>\n",
       "    <tr>\n",
       "      <th>2021-09-12</th>\n",
       "      <td>0</td>\n",
       "      <td>0</td>\n",
       "      <td>0</td>\n",
       "      <td>1</td>\n",
       "    </tr>\n",
       "    <tr>\n",
       "      <th>2021-09-13</th>\n",
       "      <td>0</td>\n",
       "      <td>0</td>\n",
       "      <td>1</td>\n",
       "      <td>0</td>\n",
       "    </tr>\n",
       "  </tbody>\n",
       "</table>\n",
       "<p>62 rows × 4 columns</p>\n",
       "</div>"
      ],
      "text/plain": [
       "Item - SKU  BT-TRIPOD-01  BT-Tripod-005  BT-Tripod-007  TRIPOD-03\n",
       "date                                                             \n",
       "2021-07-06             1              0              0          0\n",
       "2021-07-07             1              0              0          0\n",
       "2021-07-08             1              0              1          0\n",
       "2021-07-09             1              0              1          0\n",
       "2021-07-10             1              0              1          0\n",
       "...                  ...            ...            ...        ...\n",
       "2021-09-09             1              0              0          0\n",
       "2021-09-10             1              1              1          1\n",
       "2021-09-11             1              0              0          0\n",
       "2021-09-12             0              0              0          1\n",
       "2021-09-13             0              0              1          0\n",
       "\n",
       "[62 rows x 4 columns]"
      ]
     },
     "execution_count": 166,
     "metadata": {},
     "output_type": "execute_result"
    }
   ],
   "source": [
    "df1"
   ]
  },
  {
   "cell_type": "code",
   "execution_count": 186,
   "id": "82d2618b",
   "metadata": {},
   "outputs": [
    {
     "name": "stderr",
     "output_type": "stream",
     "text": [
      "C:\\Users\\nancy\\anaconda3\\lib\\site-packages\\seaborn\\distributions.py:2557: FutureWarning: `distplot` is a deprecated function and will be removed in a future version. Please adapt your code to use either `displot` (a figure-level function with similar flexibility) or `histplot` (an axes-level function for histograms).\n",
      "  warnings.warn(msg, FutureWarning)\n"
     ]
    },
    {
     "data": {
      "text/plain": [
       "<AxesSubplot:xlabel='BT-Tripod-005', ylabel='Density'>"
      ]
     },
     "execution_count": 186,
     "metadata": {},
     "output_type": "execute_result"
    },
    {
     "data": {
      "image/png": "[encoded data removed]",
      "text/plain": [
       "<Figure size 432x288 with 1 Axes>"
      ]
     },
     "metadata": {
      "needs_background": "light"
     },
     "output_type": "display_data"
    }
   ],
   "source": [
    "sns.distplot(df1['BT-Tripod-005'])"
   ]
  },
  {
   "cell_type": "code",
   "execution_count": 187,
   "id": "838d5641",
   "metadata": {},
   "outputs": [
    {
     "name": "stderr",
     "output_type": "stream",
     "text": [
      "C:\\Users\\nancy\\anaconda3\\lib\\site-packages\\seaborn\\distributions.py:2557: FutureWarning: `distplot` is a deprecated function and will be removed in a future version. Please adapt your code to use either `displot` (a figure-level function with similar flexibility) or `histplot` (an axes-level function for histograms).\n",
      "  warnings.warn(msg, FutureWarning)\n"
     ]
    },
    {
     "data": {
      "text/plain": [
       "<AxesSubplot:xlabel='BT-TRIPOD-01', ylabel='Density'>"
      ]
     },
     "execution_count": 187,
     "metadata": {},
     "output_type": "execute_result"
    },
    {
     "data": {
      "image/png": "[encoded data removed]",
      "text/plain": [
       "<Figure size 432x288 with 1 Axes>"
      ]
     },
     "metadata": {
      "needs_background": "light"
     },
     "output_type": "display_data"
    }
   ],
   "source": [
    "sns.distplot(df1['BT-TRIPOD-01'])"
   ]
  },
  {
   "cell_type": "code",
   "execution_count": 188,
   "id": "cc23b155",
   "metadata": {},
   "outputs": [
    {
     "name": "stderr",
     "output_type": "stream",
     "text": [
      "C:\\Users\\nancy\\anaconda3\\lib\\site-packages\\seaborn\\distributions.py:2557: FutureWarning: `distplot` is a deprecated function and will be removed in a future version. Please adapt your code to use either `displot` (a figure-level function with similar flexibility) or `histplot` (an axes-level function for histograms).\n",
      "  warnings.warn(msg, FutureWarning)\n"
     ]
    },
    {
     "data": {
      "text/plain": [
       "<AxesSubplot:xlabel='BT-Tripod-007', ylabel='Density'>"
      ]
     },
     "execution_count": 188,
     "metadata": {},
     "output_type": "execute_result"
    },
    {
     "data": {
      "image/png": "[encoded data removed]",
      "text/plain": [
       "<Figure size 432x288 with 1 Axes>"
      ]
     },
     "metadata": {
      "needs_background": "light"
     },
     "output_type": "display_data"
    }
   ],
   "source": [
    "sns.distplot(df1['BT-Tripod-007'])"
   ]
  },
  {
   "cell_type": "code",
   "execution_count": 212,
   "id": "cd2be9d4",
   "metadata": {},
   "outputs": [],
   "source": [
    "t_stat , p_val = ss.ttest_ind(df1['BT-TRIPOD-01'],df1['BT-Tripod-007'])"
   ]
  },
  {
   "cell_type": "code",
   "execution_count": 213,
   "id": "699c51e4",
   "metadata": {},
   "outputs": [
    {
     "data": {
      "text/plain": [
       "(8.579565172401573, 3.611709062268924e-14)"
      ]
     },
     "execution_count": 213,
     "metadata": {},
     "output_type": "execute_result"
    }
   ],
   "source": [
    "t_stat , p_val"
   ]
  },
  {
   "cell_type": "code",
   "execution_count": null,
   "id": "529400be",
   "metadata": {},
   "outputs": [],
   "source": [
    "#On the calculation of the t-score, we get the t-score as 8.579565172401573. and the p-value is 3.611709062268924e-14."
   ]
  },
  {
   "cell_type": "code",
   "execution_count": null,
   "id": "a458688e",
   "metadata": {},
   "outputs": [],
   "source": [
    "#Here, our p-value is less than the significance level i.e 0.05. Hence, \n",
    "#we can reject the null hypothesis. This means that in our A/B testing, \n",
    "#newsletter BT-TRIPOD-01 is performing better than newsletter BT-Tripod-007. \n",
    "#So our recommendation would be to replace our current newsletter with B to bring more sale on our website."
   ]
  }
 ],
 "metadata": {
  "kernelspec": {
   "display_name": "Python 3",
   "language": "python",
   "name": "python3"
  },
  "language_info": {
   "codemirror_mode": {
    "name": "ipython",
    "version": 3
   },
   "file_extension": ".py",
   "mimetype": "text/x-python",
   "name": "python",
   "nbconvert_exporter": "python",
   "pygments_lexer": "ipython3",
   "version": "3.8.8"
  }
 },
 "nbformat": 4,
 "nbformat_minor": 5
}
